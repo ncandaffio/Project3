{
 "cells": [
  {
   "cell_type": "code",
   "execution_count": null,
   "metadata": {},
   "outputs": [],
   "source": [
    "import pandas as pd\n",
    "from splinter import Browser\n",
    "from bs4 import BeautifulSoup\n",
    "import requests\n",
    "import sqlite3"
   ]
  },
  {
   "cell_type": "code",
   "execution_count": 2,
   "metadata": {},
   "outputs": [],
   "source": [
    "url = \"https://docs.google.com/spreadsheets/d/1zLNAuRqPauss00HDz4XbTH2HqsCzMe0pR8QmD1K8jk8/pubhtml/sheet?headers=false&chrome=false&gid=0&range=A3:I437\""
   ]
  },
  {
   "cell_type": "code",
   "execution_count": 3,
   "metadata": {},
   "outputs": [],
   "source": [
    "df = pd.read_html(url)"
   ]
  },
  {
   "cell_type": "code",
   "execution_count": 4,
   "metadata": {},
   "outputs": [],
   "source": [
    "df = df[0]"
   ]
  },
  {
   "cell_type": "code",
   "execution_count": 5,
   "metadata": {},
   "outputs": [],
   "source": [
    "df.rename(inplace=True, columns={1:'District', 5:'2016', 7:'2012', 9:'2008'})"
   ]
  },
  {
   "cell_type": "code",
   "execution_count": 6,
   "metadata": {},
   "outputs": [
    {
     "data": {
      "text/html": [
       "<div>\n",
       "<style scoped>\n",
       "    .dataframe tbody tr th:only-of-type {\n",
       "        vertical-align: middle;\n",
       "    }\n",
       "\n",
       "    .dataframe tbody tr th {\n",
       "        vertical-align: top;\n",
       "    }\n",
       "\n",
       "    .dataframe thead th {\n",
       "        text-align: right;\n",
       "    }\n",
       "</style>\n",
       "<table border=\"1\" class=\"dataframe\">\n",
       "  <thead>\n",
       "    <tr style=\"text-align: right;\">\n",
       "      <th></th>\n",
       "      <th>District</th>\n",
       "      <th>2016</th>\n",
       "      <th>2012</th>\n",
       "      <th>2008</th>\n",
       "    </tr>\n",
       "  </thead>\n",
       "  <tbody>\n",
       "    <tr>\n",
       "      <th>0</th>\n",
       "      <td>AK-AL</td>\n",
       "      <td>52.8</td>\n",
       "      <td>55.3</td>\n",
       "      <td>59.7</td>\n",
       "    </tr>\n",
       "    <tr>\n",
       "      <th>1</th>\n",
       "      <td>AL-01</td>\n",
       "      <td>63.5</td>\n",
       "      <td>61.8</td>\n",
       "      <td>60.9</td>\n",
       "    </tr>\n",
       "    <tr>\n",
       "      <th>2</th>\n",
       "      <td>AL-02</td>\n",
       "      <td>64.9</td>\n",
       "      <td>62.9</td>\n",
       "      <td>64.5</td>\n",
       "    </tr>\n",
       "    <tr>\n",
       "      <th>3</th>\n",
       "      <td>AL-03</td>\n",
       "      <td>65.3</td>\n",
       "      <td>62.3</td>\n",
       "      <td>62.6</td>\n",
       "    </tr>\n",
       "    <tr>\n",
       "      <th>4</th>\n",
       "      <td>AL-04</td>\n",
       "      <td>80.4</td>\n",
       "      <td>74.8</td>\n",
       "      <td>73.3</td>\n",
       "    </tr>\n",
       "  </tbody>\n",
       "</table>\n",
       "</div>"
      ],
      "text/plain": [
       "  District  2016  2012  2008\n",
       "0    AK-AL  52.8  55.3  59.7\n",
       "1    AL-01  63.5  61.8  60.9\n",
       "2    AL-02  64.9  62.9  64.5\n",
       "3    AL-03  65.3  62.3  62.6\n",
       "4    AL-04  80.4  74.8  73.3"
      ]
     },
     "execution_count": 6,
     "metadata": {},
     "output_type": "execute_result"
    }
   ],
   "source": [
    "df = df[[\"District\", \"2016\", \"2012\", \"2008\"]]\n",
    "df.head()"
   ]
  },
  {
   "cell_type": "code",
   "execution_count": 7,
   "metadata": {},
   "outputs": [],
   "source": [
    "geoDf = pd.read_json('GeoData.js')\n",
    "geoDf = geoDf.transpose()"
   ]
  },
  {
   "cell_type": "code",
   "execution_count": 8,
   "metadata": {},
   "outputs": [
    {
     "data": {
      "text/html": [
       "<div>\n",
       "<style scoped>\n",
       "    .dataframe tbody tr th:only-of-type {\n",
       "        vertical-align: middle;\n",
       "    }\n",
       "\n",
       "    .dataframe tbody tr th {\n",
       "        vertical-align: top;\n",
       "    }\n",
       "\n",
       "    .dataframe thead th {\n",
       "        text-align: right;\n",
       "    }\n",
       "</style>\n",
       "<table border=\"1\" class=\"dataframe\">\n",
       "  <thead>\n",
       "    <tr style=\"text-align: right;\">\n",
       "      <th></th>\n",
       "      <th>0</th>\n",
       "      <th>1</th>\n",
       "      <th>2</th>\n",
       "      <th>3</th>\n",
       "    </tr>\n",
       "  </thead>\n",
       "  <tbody>\n",
       "    <tr>\n",
       "      <th>MO08</th>\n",
       "      <td>-92.909347</td>\n",
       "      <td>35.995683</td>\n",
       "      <td>-89.098968</td>\n",
       "      <td>38.377400</td>\n",
       "    </tr>\n",
       "    <tr>\n",
       "      <th>IA03</th>\n",
       "      <td>-96.019543</td>\n",
       "      <td>40.570706</td>\n",
       "      <td>-93.327886</td>\n",
       "      <td>41.863728</td>\n",
       "    </tr>\n",
       "    <tr>\n",
       "      <th>IL13</th>\n",
       "      <td>-90.936728</td>\n",
       "      <td>38.661213</td>\n",
       "      <td>-88.123219</td>\n",
       "      <td>40.539467</td>\n",
       "    </tr>\n",
       "    <tr>\n",
       "      <th>IL16</th>\n",
       "      <td>-89.868384</td>\n",
       "      <td>40.398478</td>\n",
       "      <td>-87.525661</td>\n",
       "      <td>42.500563</td>\n",
       "    </tr>\n",
       "    <tr>\n",
       "      <th>IL06</th>\n",
       "      <td>-88.403606</td>\n",
       "      <td>41.743478</td>\n",
       "      <td>-87.907793</td>\n",
       "      <td>42.241746</td>\n",
       "    </tr>\n",
       "  </tbody>\n",
       "</table>\n",
       "</div>"
      ],
      "text/plain": [
       "              0          1          2          3\n",
       "MO08 -92.909347  35.995683 -89.098968  38.377400\n",
       "IA03 -96.019543  40.570706 -93.327886  41.863728\n",
       "IL13 -90.936728  38.661213 -88.123219  40.539467\n",
       "IL16 -89.868384  40.398478 -87.525661  42.500563\n",
       "IL06 -88.403606  41.743478 -87.907793  42.241746"
      ]
     },
     "execution_count": 8,
     "metadata": {},
     "output_type": "execute_result"
    }
   ],
   "source": [
    "geoDf.head()"
   ]
  },
  {
   "cell_type": "code",
   "execution_count": 10,
   "metadata": {},
   "outputs": [],
   "source": [
    "def fixDistricts(district):\n",
    "    state = district[0:2]\n",
    "    distNum = district[3:5]\n",
    "    if (distNum == 'AL'):\n",
    "        distNum = '00'\n",
    "    newDist = state + distNum\n",
    "    return newDist"
   ]
  },
  {
   "cell_type": "code",
   "execution_count": 11,
   "metadata": {},
   "outputs": [],
   "source": [
    "df['District'] = df['District'].apply(lambda x: fixDistricts(x))"
   ]
  },
  {
   "cell_type": "code",
   "execution_count": 12,
   "metadata": {},
   "outputs": [],
   "source": [
    "def addGeo(district):\n",
    "    geoList = []\n",
    "    for geo in geoDf.loc[district]:\n",
    "        geoList.append(geo)\n",
    "    return str(geoList)"
   ]
  },
  {
   "cell_type": "code",
   "execution_count": 13,
   "metadata": {},
   "outputs": [],
   "source": [
    "df['GeoData'] = df['District'].apply(lambda x: addGeo(x))"
   ]
  },
  {
   "cell_type": "code",
   "execution_count": 14,
   "metadata": {},
   "outputs": [
    {
     "data": {
      "text/html": [
       "<div>\n",
       "<style scoped>\n",
       "    .dataframe tbody tr th:only-of-type {\n",
       "        vertical-align: middle;\n",
       "    }\n",
       "\n",
       "    .dataframe tbody tr th {\n",
       "        vertical-align: top;\n",
       "    }\n",
       "\n",
       "    .dataframe thead th {\n",
       "        text-align: right;\n",
       "    }\n",
       "</style>\n",
       "<table border=\"1\" class=\"dataframe\">\n",
       "  <thead>\n",
       "    <tr style=\"text-align: right;\">\n",
       "      <th></th>\n",
       "      <th>District</th>\n",
       "      <th>2016</th>\n",
       "      <th>2012</th>\n",
       "      <th>2008</th>\n",
       "      <th>GeoData</th>\n",
       "    </tr>\n",
       "  </thead>\n",
       "  <tbody>\n",
       "    <tr>\n",
       "      <th>0</th>\n",
       "      <td>AK00</td>\n",
       "      <td>52.8</td>\n",
       "      <td>55.3</td>\n",
       "      <td>59.7</td>\n",
       "      <td>[-179.231086, 51.175092, 179.859681, 71.441059]</td>\n",
       "    </tr>\n",
       "    <tr>\n",
       "      <th>1</th>\n",
       "      <td>AL01</td>\n",
       "      <td>63.5</td>\n",
       "      <td>61.8</td>\n",
       "      <td>60.9</td>\n",
       "      <td>[-88.46443, 30.144425, -86.688063, 31.831795]</td>\n",
       "    </tr>\n",
       "    <tr>\n",
       "      <th>2</th>\n",
       "      <td>AL02</td>\n",
       "      <td>64.9</td>\n",
       "      <td>62.9</td>\n",
       "      <td>64.5</td>\n",
       "      <td>[-87.427516, 30.992859, -84.999428, 32.769225]</td>\n",
       "    </tr>\n",
       "    <tr>\n",
       "      <th>3</th>\n",
       "      <td>AL03</td>\n",
       "      <td>65.3</td>\n",
       "      <td>62.3</td>\n",
       "      <td>62.6</td>\n",
       "      <td>[-86.577799, 32.061708, -84.888246, 34.39592]</td>\n",
       "    </tr>\n",
       "    <tr>\n",
       "      <th>4</th>\n",
       "      <td>AL04</td>\n",
       "      <td>80.4</td>\n",
       "      <td>74.8</td>\n",
       "      <td>73.3</td>\n",
       "      <td>[-88.274619, 33.128724, -85.474024, 34.906694]</td>\n",
       "    </tr>\n",
       "  </tbody>\n",
       "</table>\n",
       "</div>"
      ],
      "text/plain": [
       "  District  2016  2012  2008                                          GeoData\n",
       "0     AK00  52.8  55.3  59.7  [-179.231086, 51.175092, 179.859681, 71.441059]\n",
       "1     AL01  63.5  61.8  60.9    [-88.46443, 30.144425, -86.688063, 31.831795]\n",
       "2     AL02  64.9  62.9  64.5   [-87.427516, 30.992859, -84.999428, 32.769225]\n",
       "3     AL03  65.3  62.3  62.6    [-86.577799, 32.061708, -84.888246, 34.39592]\n",
       "4     AL04  80.4  74.8  73.3   [-88.274619, 33.128724, -85.474024, 34.906694]"
      ]
     },
     "execution_count": 14,
     "metadata": {},
     "output_type": "execute_result"
    }
   ],
   "source": [
    "df = df[['District', '2016', '2012', '2008', 'GeoData']]\n",
    "df.head()"
   ]
  },
  {
   "cell_type": "code",
   "execution_count": 15,
   "metadata": {},
   "outputs": [],
   "source": [
    "connection = sqlite3.Connection('db_file.db')"
   ]
  },
  {
   "cell_type": "code",
   "execution_count": 19,
   "metadata": {},
   "outputs": [],
   "source": [
    "df.to_sql(name='DistrictData', con=connection, index=True, if_exists='replace')"
   ]
  }
 ],
 "metadata": {
  "kernelspec": {
   "display_name": "Python [conda env:PythonData2]",
   "language": "python",
   "name": "conda-env-PythonData2-py"
  },
  "language_info": {
   "codemirror_mode": {
    "name": "ipython",
    "version": 3
   },
   "file_extension": ".py",
   "mimetype": "text/x-python",
   "name": "python",
   "nbconvert_exporter": "python",
   "pygments_lexer": "ipython3",
   "version": "3.6.7"
  }
 },
 "nbformat": 4,
 "nbformat_minor": 2
}
