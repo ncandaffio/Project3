{
 "cells": [
  {
   "cell_type": "code",
   "execution_count": null,
   "metadata": {},
   "outputs": [],
   "source": [
    "import pandas as pd\n",
    "from splinter import Browser\n",
    "from bs4 import BeautifulSoup\n",
    "import numpy\n",
    "import requests\n",
    "import pymongo"
   ]
  },
  {
   "cell_type": "code",
   "execution_count": null,
   "metadata": {},
   "outputs": [],
   "source": [
    "url = \"https://docs.google.com/spreadsheets/d/1zLNAuRqPauss00HDz4XbTH2HqsCzMe0pR8QmD1K8jk8/pubhtml/sheet?headers=false&chrome=false&gid=0&range=A3:I437\""
   ]
  },
  {
   "cell_type": "code",
   "execution_count": null,
   "metadata": {},
   "outputs": [],
   "source": [
    "df = pd.read_html(url)"
   ]
  },
  {
   "cell_type": "code",
   "execution_count": null,
   "metadata": {},
   "outputs": [],
   "source": [
    "df = df[0]"
   ]
  },
  {
   "cell_type": "code",
   "execution_count": null,
   "metadata": {},
   "outputs": [],
   "source": [
    "df.rename(inplace=True, columns={1:'District', 5:'2016', 7:'2012', 9:'2008'})"
   ]
  },
  {
   "cell_type": "code",
   "execution_count": null,
   "metadata": {},
   "outputs": [],
   "source": [
    "df = df[[\"District\", \"2016\", \"2012\", \"2008\"]]\n",
    "df.head()"
   ]
  },
  {
   "cell_type": "code",
   "execution_count": null,
   "metadata": {},
   "outputs": [],
   "source": [
    "def fixDistricts(district):\n",
    "    state = district[0:2]\n",
    "    distStr = district[3:5]\n",
    "    if (distStr == 'AL'):\n",
    "        distNum = 0\n",
    "    else: distNum = int(distStr)\n",
    "    newDist = state + '-' + str(distNum)\n",
    "    return newDist"
   ]
  },
  {
   "cell_type": "code",
   "execution_count": null,
   "metadata": {},
   "outputs": [],
   "source": [
    "df['District'] = df['District'].apply(lambda x: fixDistricts(x))\n",
    "df['geoData'] = ''\n",
    "df.head()"
   ]
  },
  {
   "cell_type": "code",
   "execution_count": null,
   "metadata": {},
   "outputs": [],
   "source": [
    "for row in numpy.arange(0, len(df)-1):\n",
    "    district = df.iloc[row][\"District\"]\n",
    "    geoDF = pd.read_json(requests.get('https://theunitedstates.io/districts/cds/2016/{0}/shape.geojson'.format(district)).text)\n",
    "    geoData = geoDF.at['coordinates', 'geometry']\n",
    "    df.iat[row, 4] = geoData[0][0]"
   ]
  },
  {
   "cell_type": "code",
   "execution_count": null,
   "metadata": {
    "scrolled": true
   },
   "outputs": [],
   "source": [
    "df.head()"
   ]
  },
  {
   "cell_type": "code",
   "execution_count": null,
   "metadata": {},
   "outputs": [],
   "source": [
    "conn = 'mongodb://localhost:27017'\n",
    "client = pymongo.MongoClient(conn)"
   ]
  },
  {
   "cell_type": "code",
   "execution_count": null,
   "metadata": {},
   "outputs": [],
   "source": [
    "db = client.electionDB"
   ]
  },
  {
   "cell_type": "code",
   "execution_count": null,
   "metadata": {},
   "outputs": [],
   "source": [
    "years = ['2016', '2012', '2008']\n",
    "\n",
    "for year in years:\n",
    "    for row in numpy.arange(0,len(df)):\n",
    "        db[year].insert_one({\n",
    "            \"type\": \"Feature\",\n",
    "            \"properties\": {\n",
    "                \"District\": df.iloc[row][\"District\"],\n",
    "                \"Result\": df.iloc[row][year],\n",
    "                \"Winner\": 'R' if df.iloc[row][year] > 50 else 'D'\n",
    "            },\n",
    "            \"geometry\": {\n",
    "                \"type\": \"polygon\",\n",
    "                \"coordinates\": [df.iloc[row][\"geoData\"]]\n",
    "            }\n",
    "        })\n"
   ]
  },
  {
   "cell_type": "code",
   "execution_count": null,
   "metadata": {},
   "outputs": [],
   "source": []
  }
 ],
 "metadata": {
  "kernelspec": {
   "display_name": "Python [conda env:PythonData]",
   "language": "python",
   "name": "conda-env-PythonData-py"
  },
  "language_info": {
   "codemirror_mode": {
    "name": "ipython",
    "version": 3
   },
   "file_extension": ".py",
   "mimetype": "text/x-python",
   "name": "python",
   "nbconvert_exporter": "python",
   "pygments_lexer": "ipython3",
   "version": "3.6.7"
  }
 },
 "nbformat": 4,
 "nbformat_minor": 2
}
