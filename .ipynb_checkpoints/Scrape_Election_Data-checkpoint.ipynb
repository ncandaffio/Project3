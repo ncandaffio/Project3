{
 "cells": [
  {
   "cell_type": "code",
   "execution_count": 10,
   "metadata": {},
   "outputs": [],
   "source": [
    "import pandas as pd\n",
    "from splinter import Browser\n",
    "from bs4 import BeautifulSoup\n",
    "import numpy\n",
    "import requests\n",
    "import pymongo"
   ]
  },
  {
   "cell_type": "code",
   "execution_count": 2,
   "metadata": {},
   "outputs": [],
   "source": [
    "url = \"https://docs.google.com/spreadsheets/d/1zLNAuRqPauss00HDz4XbTH2HqsCzMe0pR8QmD1K8jk8/pubhtml/sheet?headers=false&chrome=false&gid=0&range=A3:I437\""
   ]
  },
  {
   "cell_type": "code",
   "execution_count": 3,
   "metadata": {},
   "outputs": [],
   "source": [
    "df = pd.read_html(url)"
   ]
  },
  {
   "cell_type": "code",
   "execution_count": 4,
   "metadata": {},
   "outputs": [],
   "source": [
    "df = df[0]"
   ]
  },
  {
   "cell_type": "code",
   "execution_count": 5,
   "metadata": {},
   "outputs": [],
   "source": [
    "df.rename(inplace=True, columns={1:'District', 5:'2016', 7:'2012', 9:'2008'})"
   ]
  },
  {
   "cell_type": "code",
   "execution_count": 6,
   "metadata": {},
   "outputs": [
    {
     "data": {
      "text/html": [
       "<div>\n",
       "<style scoped>\n",
       "    .dataframe tbody tr th:only-of-type {\n",
       "        vertical-align: middle;\n",
       "    }\n",
       "\n",
       "    .dataframe tbody tr th {\n",
       "        vertical-align: top;\n",
       "    }\n",
       "\n",
       "    .dataframe thead th {\n",
       "        text-align: right;\n",
       "    }\n",
       "</style>\n",
       "<table border=\"1\" class=\"dataframe\">\n",
       "  <thead>\n",
       "    <tr style=\"text-align: right;\">\n",
       "      <th></th>\n",
       "      <th>District</th>\n",
       "      <th>2016</th>\n",
       "      <th>2012</th>\n",
       "      <th>2008</th>\n",
       "    </tr>\n",
       "  </thead>\n",
       "  <tbody>\n",
       "    <tr>\n",
       "      <th>0</th>\n",
       "      <td>AK-AL</td>\n",
       "      <td>52.8</td>\n",
       "      <td>55.3</td>\n",
       "      <td>59.7</td>\n",
       "    </tr>\n",
       "    <tr>\n",
       "      <th>1</th>\n",
       "      <td>AL-01</td>\n",
       "      <td>63.5</td>\n",
       "      <td>61.8</td>\n",
       "      <td>60.9</td>\n",
       "    </tr>\n",
       "    <tr>\n",
       "      <th>2</th>\n",
       "      <td>AL-02</td>\n",
       "      <td>64.9</td>\n",
       "      <td>62.9</td>\n",
       "      <td>64.5</td>\n",
       "    </tr>\n",
       "    <tr>\n",
       "      <th>3</th>\n",
       "      <td>AL-03</td>\n",
       "      <td>65.3</td>\n",
       "      <td>62.3</td>\n",
       "      <td>62.6</td>\n",
       "    </tr>\n",
       "    <tr>\n",
       "      <th>4</th>\n",
       "      <td>AL-04</td>\n",
       "      <td>80.4</td>\n",
       "      <td>74.8</td>\n",
       "      <td>73.3</td>\n",
       "    </tr>\n",
       "  </tbody>\n",
       "</table>\n",
       "</div>"
      ],
      "text/plain": [
       "  District  2016  2012  2008\n",
       "0    AK-AL  52.8  55.3  59.7\n",
       "1    AL-01  63.5  61.8  60.9\n",
       "2    AL-02  64.9  62.9  64.5\n",
       "3    AL-03  65.3  62.3  62.6\n",
       "4    AL-04  80.4  74.8  73.3"
      ]
     },
     "execution_count": 6,
     "metadata": {},
     "output_type": "execute_result"
    }
   ],
   "source": [
    "df = df[[\"District\", \"2016\", \"2012\", \"2008\"]]\n",
    "df.head()"
   ]
  },
  {
   "cell_type": "code",
   "execution_count": 7,
   "metadata": {},
   "outputs": [],
   "source": [
    "def fixDistricts(district):\n",
    "    state = district[0:2]\n",
    "    distStr = district[3:5]\n",
    "    if (distStr == 'AL'):\n",
    "        distNum = 0\n",
    "    else: distNum = int(distStr)\n",
    "    newDist = state + '-' + str(distNum)\n",
    "    return newDist"
   ]
  },
  {
   "cell_type": "code",
   "execution_count": 8,
   "metadata": {},
   "outputs": [
    {
     "data": {
      "text/html": [
       "<div>\n",
       "<style scoped>\n",
       "    .dataframe tbody tr th:only-of-type {\n",
       "        vertical-align: middle;\n",
       "    }\n",
       "\n",
       "    .dataframe tbody tr th {\n",
       "        vertical-align: top;\n",
       "    }\n",
       "\n",
       "    .dataframe thead th {\n",
       "        text-align: right;\n",
       "    }\n",
       "</style>\n",
       "<table border=\"1\" class=\"dataframe\">\n",
       "  <thead>\n",
       "    <tr style=\"text-align: right;\">\n",
       "      <th></th>\n",
       "      <th>District</th>\n",
       "      <th>2016</th>\n",
       "      <th>2012</th>\n",
       "      <th>2008</th>\n",
       "      <th>geoData</th>\n",
       "    </tr>\n",
       "  </thead>\n",
       "  <tbody>\n",
       "    <tr>\n",
       "      <th>0</th>\n",
       "      <td>AK-0</td>\n",
       "      <td>52.8</td>\n",
       "      <td>55.3</td>\n",
       "      <td>59.7</td>\n",
       "      <td></td>\n",
       "    </tr>\n",
       "    <tr>\n",
       "      <th>1</th>\n",
       "      <td>AL-1</td>\n",
       "      <td>63.5</td>\n",
       "      <td>61.8</td>\n",
       "      <td>60.9</td>\n",
       "      <td></td>\n",
       "    </tr>\n",
       "    <tr>\n",
       "      <th>2</th>\n",
       "      <td>AL-2</td>\n",
       "      <td>64.9</td>\n",
       "      <td>62.9</td>\n",
       "      <td>64.5</td>\n",
       "      <td></td>\n",
       "    </tr>\n",
       "    <tr>\n",
       "      <th>3</th>\n",
       "      <td>AL-3</td>\n",
       "      <td>65.3</td>\n",
       "      <td>62.3</td>\n",
       "      <td>62.6</td>\n",
       "      <td></td>\n",
       "    </tr>\n",
       "    <tr>\n",
       "      <th>4</th>\n",
       "      <td>AL-4</td>\n",
       "      <td>80.4</td>\n",
       "      <td>74.8</td>\n",
       "      <td>73.3</td>\n",
       "      <td></td>\n",
       "    </tr>\n",
       "  </tbody>\n",
       "</table>\n",
       "</div>"
      ],
      "text/plain": [
       "  District  2016  2012  2008 geoData\n",
       "0     AK-0  52.8  55.3  59.7        \n",
       "1     AL-1  63.5  61.8  60.9        \n",
       "2     AL-2  64.9  62.9  64.5        \n",
       "3     AL-3  65.3  62.3  62.6        \n",
       "4     AL-4  80.4  74.8  73.3        "
      ]
     },
     "execution_count": 8,
     "metadata": {},
     "output_type": "execute_result"
    }
   ],
   "source": [
    "df['District'] = df['District'].apply(lambda x: fixDistricts(x))\n",
    "df['geoData'] = ''\n",
    "df.head()"
   ]
  },
  {
   "cell_type": "code",
   "execution_count": 11,
   "metadata": {},
   "outputs": [],
   "source": [
    "for row in numpy.arange(0, len(df)-1):\n",
    "    district = df.iloc[row][\"District\"]\n",
    "    geoDF = pd.read_json(requests.get('https://theunitedstates.io/districts/cds/2016/{0}/shape.geojson'.format(district)).text)\n",
    "    geoData = geoDF.at['coordinates', 'geometry']\n",
    "    df.iat[row, 4] = geoData[0][0]"
   ]
  },
  {
   "cell_type": "code",
   "execution_count": 12,
   "metadata": {
    "scrolled": true
   },
   "outputs": [
    {
     "data": {
      "text/html": [
       "<div>\n",
       "<style scoped>\n",
       "    .dataframe tbody tr th:only-of-type {\n",
       "        vertical-align: middle;\n",
       "    }\n",
       "\n",
       "    .dataframe tbody tr th {\n",
       "        vertical-align: top;\n",
       "    }\n",
       "\n",
       "    .dataframe thead th {\n",
       "        text-align: right;\n",
       "    }\n",
       "</style>\n",
       "<table border=\"1\" class=\"dataframe\">\n",
       "  <thead>\n",
       "    <tr style=\"text-align: right;\">\n",
       "      <th></th>\n",
       "      <th>District</th>\n",
       "      <th>2016</th>\n",
       "      <th>2012</th>\n",
       "      <th>2008</th>\n",
       "      <th>geoData</th>\n",
       "    </tr>\n",
       "  </thead>\n",
       "  <tbody>\n",
       "    <tr>\n",
       "      <th>0</th>\n",
       "      <td>AK-0</td>\n",
       "      <td>52.8</td>\n",
       "      <td>55.3</td>\n",
       "      <td>59.7</td>\n",
       "      <td>[[-152.312393188477, 57.36793518066414], [-152...</td>\n",
       "    </tr>\n",
       "    <tr>\n",
       "      <th>1</th>\n",
       "      <td>AL-1</td>\n",
       "      <td>63.5</td>\n",
       "      <td>61.8</td>\n",
       "      <td>60.9</td>\n",
       "      <td>[[-88.03498840332028, 30.522453308105487], [-8...</td>\n",
       "    </tr>\n",
       "    <tr>\n",
       "      <th>2</th>\n",
       "      <td>AL-2</td>\n",
       "      <td>64.9</td>\n",
       "      <td>62.9</td>\n",
       "      <td>64.5</td>\n",
       "      <td>[[-87.427204, 31.26436], [-87.425511, 31.26829...</td>\n",
       "    </tr>\n",
       "    <tr>\n",
       "      <th>3</th>\n",
       "      <td>AL-3</td>\n",
       "      <td>65.3</td>\n",
       "      <td>62.3</td>\n",
       "      <td>62.6</td>\n",
       "      <td>[[-86.577528, 33.801977], [-86.564208, 33.8019...</td>\n",
       "    </tr>\n",
       "    <tr>\n",
       "      <th>4</th>\n",
       "      <td>AL-4</td>\n",
       "      <td>80.4</td>\n",
       "      <td>74.8</td>\n",
       "      <td>73.3</td>\n",
       "      <td>[[-88.27005, 33.570819], [-88.269532, 33.57289...</td>\n",
       "    </tr>\n",
       "  </tbody>\n",
       "</table>\n",
       "</div>"
      ],
      "text/plain": [
       "  District  2016  2012  2008  \\\n",
       "0     AK-0  52.8  55.3  59.7   \n",
       "1     AL-1  63.5  61.8  60.9   \n",
       "2     AL-2  64.9  62.9  64.5   \n",
       "3     AL-3  65.3  62.3  62.6   \n",
       "4     AL-4  80.4  74.8  73.3   \n",
       "\n",
       "                                             geoData  \n",
       "0  [[-152.312393188477, 57.36793518066414], [-152...  \n",
       "1  [[-88.03498840332028, 30.522453308105487], [-8...  \n",
       "2  [[-87.427204, 31.26436], [-87.425511, 31.26829...  \n",
       "3  [[-86.577528, 33.801977], [-86.564208, 33.8019...  \n",
       "4  [[-88.27005, 33.570819], [-88.269532, 33.57289...  "
      ]
     },
     "execution_count": 12,
     "metadata": {},
     "output_type": "execute_result"
    }
   ],
   "source": [
    "df.head()"
   ]
  },
  {
   "cell_type": "code",
   "execution_count": 13,
   "metadata": {},
   "outputs": [],
   "source": [
    "conn = 'mongodb://localhost:27017'\n",
    "client = pymongo.MongoClient(conn)"
   ]
  },
  {
   "cell_type": "code",
   "execution_count": 14,
   "metadata": {},
   "outputs": [],
   "source": [
    "db = client.electionDB"
   ]
  },
  {
   "cell_type": "code",
   "execution_count": 19,
   "metadata": {},
   "outputs": [],
   "source": [
    "def getColor(result):\n",
    "    step = 100 / 19\n",
    "    colorScale = {\n",
    "        0: '#00008b',\n",
    "        1: '#392098',\n",
    "        2: '#583aa5',\n",
    "        3: '#7255b2',\n",
    "        4: '#8b6fc0',\n",
    "        5: '#a38acc',\n",
    "        6: '#baa7d9',\n",
    "        7: '#d1c4e6',\n",
    "        8: '#e8e1f3',\n",
    "        9: '#ffffff',\n",
    "        10: '#f7e4e0',\n",
    "        11: '#eec9c1',\n",
    "        12: '#e3afa3',\n",
    "        13: '#d89686',\n",
    "        14: '#cb7c6a',\n",
    "        15: '#bc634f',\n",
    "        16: '#ad4835',\n",
    "        17: '#9d2d1c',\n",
    "        18: '#8b0000'\n",
    "    }\n",
    "    valScale = round(result / step)\n",
    "    return colorScale[valScale]"
   ]
  },
  {
   "cell_type": "code",
   "execution_count": 24,
   "metadata": {},
   "outputs": [
    {
     "data": {
      "text/plain": [
       "{'type': 'Feature',\n",
       " 'properties': {'District': 'AK-0', 'Result': 52.8, 'Winner': 'R'},\n",
       " 'style': {'color': 'black', 'fillColor': '#f7e4e0', 'opacity': 0.75},\n",
       " 'geometry': {'type': 'MultiPolygon',\n",
       "  'coordinates': [[-152.312393188477, 57.36793518066414],\n",
       "   [-152.28575134277298, 57.39268112182621],\n",
       "   [-152.26766967773398, 57.38982391357418],\n",
       "   [-152.25718688964804, 57.38601684570312],\n",
       "   [-152.25718688964804, 57.37840270996086],\n",
       "   [-152.28575134277298, 57.36698150634766],\n",
       "   [-152.311447143555, 57.36412811279301],\n",
       "   [-152.312393188477, 57.36793518066414]]}}"
      ]
     },
     "execution_count": 24,
     "metadata": {},
     "output_type": "execute_result"
    }
   ],
   "source": [
    "years = [2016, 2012, 2008]\n",
    "geojson = {\n",
    "    \"type\": \"Feature\",\n",
    "    \"properties\": {\n",
    "        \"District\": df.iloc[0][\"District\"],\n",
    "        \"Result\": df.iloc[0][\"2016\"],\n",
    "        \"Winner\": 'R' if df.iloc[0][\"2016\"] > 50 else 'D'\n",
    "    },\n",
    "        \"style\":{\n",
    "        \"color\": \"black\",\n",
    "        \"fillColor\": getColor(df.iloc[0][\"2016\"]),\n",
    "        \"opacity\": 0.75\n",
    "    },\n",
    "    \"geometry\": {\n",
    "        \"type\": \"MultiPolygon\",\n",
    "        \"coordinates\": df.iloc[0][\"geoData\"]\n",
    "    }\n",
    "};\n",
    "geojson"
   ]
  }
 ],
 "metadata": {
  "kernelspec": {
   "display_name": "Python [conda env:PythonData2]",
   "language": "python",
   "name": "conda-env-PythonData2-py"
  },
  "language_info": {
   "codemirror_mode": {
    "name": "ipython",
    "version": 3
   },
   "file_extension": ".py",
   "mimetype": "text/x-python",
   "name": "python",
   "nbconvert_exporter": "python",
   "pygments_lexer": "ipython3",
   "version": "3.6.7"
  }
 },
 "nbformat": 4,
 "nbformat_minor": 2
}
